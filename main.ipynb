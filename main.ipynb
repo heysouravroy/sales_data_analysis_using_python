{
 "cells": [
  {
   "cell_type": "markdown",
   "metadata": {},
   "source": [
    "INSTALLING THE MODULES NEEDED FOR THE PROJECT"
   ]
  },
  {
   "cell_type": "code",
   "execution_count": null,
   "metadata": {},
   "outputs": [],
   "source": [
    "#pip install numpy\n",
    "#pip install pandas\n",
    "#pip install matplotlib\n",
    "#pip install seaborn"
   ]
  },
  {
   "cell_type": "markdown",
   "metadata": {},
   "source": [
    "IMPORTING THE MODULES"
   ]
  },
  {
   "cell_type": "code",
   "execution_count": null,
   "metadata": {},
   "outputs": [],
   "source": [
    "import numpy as np\n",
    "import pandas as pd\n",
    "import matplotlib.pyplot as plt\n",
    "%matplotlib inline\n",
    "import seaborn as sns"
   ]
  },
  {
   "cell_type": "markdown",
   "metadata": {},
   "source": [
    "READING THE DATASET"
   ]
  },
  {
   "cell_type": "code",
   "execution_count": null,
   "metadata": {},
   "outputs": [],
   "source": [
    "xy = pd.read_csv('customer_shopping_data.csv')"
   ]
  },
  {
   "cell_type": "code",
   "execution_count": null,
   "metadata": {},
   "outputs": [],
   "source": [
    "xy.shape"
   ]
  },
  {
   "cell_type": "code",
   "execution_count": null,
   "metadata": {},
   "outputs": [],
   "source": [
    "xy.head()"
   ]
  },
  {
   "cell_type": "code",
   "execution_count": null,
   "metadata": {},
   "outputs": [],
   "source": [
    "xy.info()"
   ]
  },
  {
   "cell_type": "markdown",
   "metadata": {},
   "source": [
    "CHECKING NULL VALUES"
   ]
  },
  {
   "cell_type": "code",
   "execution_count": null,
   "metadata": {},
   "outputs": [],
   "source": [
    "pd.isnull(xy)"
   ]
  },
  {
   "cell_type": "code",
   "execution_count": null,
   "metadata": {},
   "outputs": [],
   "source": [
    "pd.isnull(xy).sum()"
   ]
  },
  {
   "cell_type": "code",
   "execution_count": null,
   "metadata": {},
   "outputs": [],
   "source": [
    "xy.shape"
   ]
  },
  {
   "cell_type": "markdown",
   "metadata": {},
   "source": [
    "CHANGING DATA TYPE"
   ]
  },
  {
   "cell_type": "code",
   "execution_count": null,
   "metadata": {},
   "outputs": [],
   "source": [
    "xy['price'] = xy['price'].astype('int')"
   ]
  },
  {
   "cell_type": "code",
   "execution_count": null,
   "metadata": {},
   "outputs": [],
   "source": [
    "xy['price'].dtype"
   ]
  },
  {
   "cell_type": "markdown",
   "metadata": {},
   "source": [
    "CHECKING COLUMNS"
   ]
  },
  {
   "cell_type": "code",
   "execution_count": null,
   "metadata": {},
   "outputs": [],
   "source": [
    "xy.columns"
   ]
  },
  {
   "cell_type": "code",
   "execution_count": null,
   "metadata": {},
   "outputs": [],
   "source": [
    "xy.describe()"
   ]
  },
  {
   "cell_type": "markdown",
   "metadata": {},
   "source": [
    "DATA ANALYSIS"
   ]
  },
  {
   "cell_type": "markdown",
   "metadata": {},
   "source": [
    "Gender"
   ]
  },
  {
   "cell_type": "code",
   "execution_count": null,
   "metadata": {},
   "outputs": [],
   "source": [
    "a=sns.countplot(x='gender', data=xy)\n",
    "for bars in a.containers:\n",
    "    a.bar_label(bars)"
   ]
  },
  {
   "cell_type": "code",
   "execution_count": null,
   "metadata": {},
   "outputs": [],
   "source": [
    "sales_gen = xy.groupby(['gender'], as_index=False)['price'].sum().sort_values(by='price', ascending=False) # type: ignore\n",
    "sns.barplot(x = 'gender',y= 'price' ,data = sales_gen)"
   ]
  },
  {
   "cell_type": "code",
   "execution_count": null,
   "metadata": {},
   "outputs": [],
   "source": [
    "# we saw that Females has spend more money than males"
   ]
  },
  {
   "cell_type": "markdown",
   "metadata": {},
   "source": [
    "Age"
   ]
  },
  {
   "cell_type": "code",
   "execution_count": null,
   "metadata": {},
   "outputs": [],
   "source": [
    "a = sns.countplot(data=xy, x='age_group', hue='gender')\n",
    "for bars in a.containers:\n",
    "    a.bar_label(bars)"
   ]
  },
  {
   "cell_type": "code",
   "execution_count": null,
   "metadata": {},
   "outputs": [],
   "source": [
    "sales_age = xy.groupby(['age_group'], as_index=False)['price'].sum().sort_values(by='price', ascending=False) # type: ignore\n",
    "\n",
    "sns.barplot(x = 'age_group',y= 'price' ,data = sales_age)"
   ]
  },
  {
   "cell_type": "code",
   "execution_count": null,
   "metadata": {},
   "outputs": [],
   "source": [
    "# the age group of 40-50 has purchased more followed by 30-40 and 60-70"
   ]
  },
  {
   "cell_type": "markdown",
   "metadata": {},
   "source": [
    "Payment Method"
   ]
  },
  {
   "cell_type": "code",
   "execution_count": null,
   "metadata": {},
   "outputs": [],
   "source": [
    "a = sns.countplot(data=xy, x='payment_method')\n",
    "sns.set(rc={'figure.figsize':(15,5)})\n",
    "for bars in a.containers:\n",
    "    a.bar_label(bars)"
   ]
  },
  {
   "cell_type": "code",
   "execution_count": null,
   "metadata": {},
   "outputs": [],
   "source": [
    "sales_cat = xy.groupby(['payment_method','gender'], as_index=False)['price'].sum().sort_values(by='price', ascending=False).head(5) # type: ignore\n",
    "sns.set(rc={'figure.figsize':(15,5)})\n",
    "sns.barplot(data = sales_cat, x = 'payment_method',y= 'price' ,hue = 'gender')"
   ]
  },
  {
   "cell_type": "code",
   "execution_count": null,
   "metadata": {},
   "outputs": [],
   "source": [
    "# Most of them preferred Cash payment method and no male purchased using debit card"
   ]
  },
  {
   "cell_type": "markdown",
   "metadata": {},
   "source": [
    "Month"
   ]
  },
  {
   "cell_type": "code",
   "execution_count": null,
   "metadata": {},
   "outputs": [],
   "source": [
    "sales_mon = xy.groupby(['month'], as_index=False)['price'].sum().sort_values(by='price', ascending=False) # type: ignore\n",
    "sns.set(rc={'figure.figsize':(15,5)})\n",
    "sns.barplot(x = 'month',y= 'price' ,data = sales_mon)"
   ]
  },
  {
   "cell_type": "code",
   "execution_count": null,
   "metadata": {},
   "outputs": [],
   "source": [
    "# january has most sales "
   ]
  },
  {
   "cell_type": "markdown",
   "metadata": {},
   "source": [
    "Category"
   ]
  },
  {
   "cell_type": "code",
   "execution_count": null,
   "metadata": {},
   "outputs": [],
   "source": [
    "a = sns.countplot(data=xy, x='category',)\n",
    "sns.set(rc={'figure.figsize':(15,5)})\n",
    "for bars in a.containers:\n",
    "    a.bar_label(bars)"
   ]
  },
  {
   "cell_type": "code",
   "execution_count": null,
   "metadata": {},
   "outputs": [],
   "source": [
    "# clothing has most sales followed by cosmetics"
   ]
  },
  {
   "cell_type": "code",
   "execution_count": null,
   "metadata": {},
   "outputs": [],
   "source": [
    "sales_pro = xy.groupby(['category'], as_index=False)['price'].sum().sort_values(by='price', ascending=False) # type: ignore\n",
    "sns.set(rc={'figure.figsize':(20,5)})\n",
    "sns.barplot(x = 'category',y= 'price' ,data = sales_pro)"
   ]
  },
  {
   "cell_type": "code",
   "execution_count": null,
   "metadata": {},
   "outputs": [],
   "source": [
    "# clothing has generated most revenue followed by shoes and technology"
   ]
  },
  {
   "cell_type": "markdown",
   "metadata": {},
   "source": [
    "Location"
   ]
  },
  {
   "cell_type": "code",
   "execution_count": null,
   "metadata": {},
   "outputs": [],
   "source": [
    "a = sns.countplot(data=xy, x='shopping_mall')\n",
    "sns.set(rc={'figure.figsize':(25,5)})\n",
    "for bars in a.containers:\n",
    "    a.bar_label(bars)"
   ]
  },
  {
   "cell_type": "code",
   "execution_count": null,
   "metadata": {},
   "outputs": [],
   "source": [
    "# the shopping mall \"Mall of Istanbul\" has most sales "
   ]
  },
  {
   "cell_type": "code",
   "execution_count": null,
   "metadata": {},
   "outputs": [],
   "source": [
    "sales_loc = xy.groupby(['shopping_mall'], as_index=False)['price'].sum().sort_values(by='price', ascending=False) # type: ignore\n",
    "sns.set(rc={'figure.figsize':(20,5)})\n",
    "sns.barplot(x = 'shopping_mall',y= 'price' ,data = sales_loc)"
   ]
  },
  {
   "cell_type": "code",
   "execution_count": null,
   "metadata": {},
   "outputs": [],
   "source": [
    "# the shopping mall \"Mall of Istanbul\" has generated most revenue"
   ]
  },
  {
   "cell_type": "markdown",
   "metadata": {},
   "source": [
    "CONCLUSION"
   ]
  },
  {
   "cell_type": "markdown",
   "metadata": {},
   "source": [
    "\n",
    "Based on the provided information, it can be concluded that females have spent more money compared to males. Among different age groups, the 40-50 age range had the highest number of purchases, followed by the 30-40 and 60-70 age groups. The preferred payment method for most customers was cash, as no male made purchases using a debit card. In terms of sales, January had the highest number of transactions. The clothing category recorded the highest sales, followed by cosmetics. When it comes to revenue generation, clothing emerged as the top-performing category, followed by shoes and technology. The shopping mall \"Mall of Istanbul\" had the highest sales and revenue among the mentioned shopping malls."
   ]
  }
 ],
 "metadata": {
  "kernelspec": {
   "display_name": "Python 3",
   "language": "python",
   "name": "python3"
  },
  "language_info": {
   "codemirror_mode": {
    "name": "ipython",
    "version": 3
   },
   "file_extension": ".py",
   "mimetype": "text/x-python",
   "name": "python",
   "nbconvert_exporter": "python",
   "pygments_lexer": "ipython3",
   "version": "3.11.4"
  },
  "orig_nbformat": 4
 },
 "nbformat": 4,
 "nbformat_minor": 2
}
